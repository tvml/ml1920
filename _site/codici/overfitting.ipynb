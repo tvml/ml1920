{
  "nbformat": 4,
  "nbformat_minor": 0,
  "metadata": {
    "kernelspec": {
      "display_name": "Python 3",
      "language": "python",
      "name": "python3"
    },
    "language_info": {
      "codemirror_mode": {
        "name": "ipython",
        "version": 3
      },
      "file_extension": ".py",
      "mimetype": "text/x-python",
      "name": "python",
      "nbconvert_exporter": "python",
      "pygments_lexer": "ipython3",
      "version": "3.7.4"
    },
    "colab": {
      "name": "overfitting.ipynb",
      "provenance": []
    }
  },
  "cells": [
    {
      "cell_type": "code",
      "metadata": {
        "id": "QpSE3IukG-PH",
        "colab_type": "code",
        "colab": {}
      },
      "source": [
        "from IPython.display import Image\n",
        "import warnings\n",
        "warnings.filterwarnings('ignore')\n",
        "\n",
        "%matplotlib inline"
      ],
      "execution_count": 0,
      "outputs": []
    },
    {
      "cell_type": "code",
      "metadata": {
        "id": "urauPZjZG-QL",
        "colab_type": "code",
        "colab": {}
      },
      "source": [
        "import scipy as sc\n",
        "import scipy.stats as stats\n",
        "import numpy as np\n",
        "import pandas as pd"
      ],
      "execution_count": 0,
      "outputs": []
    },
    {
      "cell_type": "code",
      "metadata": {
        "id": "qPdvtG3EG-Q3",
        "colab_type": "code",
        "colab": {}
      },
      "source": [
        "import matplotlib.pyplot as plt\n",
        "import matplotlib.colors as mcolors\n",
        "from matplotlib import cm\n",
        "\n",
        "plt.style.use('fivethirtyeight')\n",
        "\n",
        "plt.rcParams['font.family'] = 'sans-serif'\n",
        "plt.rcParams['font.serif'] = 'Ubuntu'\n",
        "plt.rcParams['font.monospace'] = 'Ubuntu Mono'\n",
        "plt.rcParams['font.size'] = 10\n",
        "plt.rcParams['axes.labelsize'] = 10\n",
        "plt.rcParams['axes.labelweight'] = 'bold'\n",
        "plt.rcParams['axes.titlesize'] = 10\n",
        "plt.rcParams['xtick.labelsize'] = 8\n",
        "plt.rcParams['ytick.labelsize'] = 8\n",
        "plt.rcParams['legend.fontsize'] = 10\n",
        "plt.rcParams['figure.titlesize'] = 12\n",
        "plt.rcParams['image.cmap'] = 'jet'\n",
        "plt.rcParams['image.interpolation'] = 'none'\n",
        "plt.rcParams['figure.figsize'] = (16, 8)\n",
        "plt.rcParams['lines.linewidth'] = 2\n",
        "plt.rcParams['lines.markersize'] = 8\n",
        "\n",
        "colors = ['xkcd:pale orange', 'xkcd:sea blue', 'xkcd:pale red', 'xkcd:sage green', 'xkcd:terra cotta', 'xkcd:dull purple', 'xkcd:teal', 'xkcd:goldenrod', 'xkcd:cadet blue', \n",
        "          'xkcd:scarlet']\n",
        "cmap_big = cm.get_cmap('Spectral', 512)\n",
        "cmap = mcolors.ListedColormap(cmap_big(np.linspace(0.7, 0.95, 256)))\n",
        "\n",
        "bbox_props = dict(boxstyle=\"round,pad=0.3\", fc=colors[0], alpha=.5)"
      ],
      "execution_count": 0,
      "outputs": []
    },
    {
      "cell_type": "code",
      "metadata": {
        "id": "vlPCM1ayHI54",
        "colab_type": "code",
        "colab": {}
      },
      "source": [
        "import urllib.request\n",
        "\n",
        "filepath = \"../dataset/\"\n",
        "url = \"https://tvml.github.io/ml1920/dataset/\"\n",
        "def get_file(filename,local):\n",
        "    if local:\n",
        "        return filepath+filename\n",
        "    else:\n",
        "        urllib.request.urlretrieve (url+filename, filename)\n",
        "        return filename"
      ],
      "execution_count": 0,
      "outputs": []
    },
    {
      "cell_type": "markdown",
      "metadata": {
        "id": "ePtTAyeHG-RG",
        "colab_type": "text"
      },
      "source": [
        "Definizione della funzione (sconosciuta) alla base del dataset"
      ]
    },
    {
      "cell_type": "code",
      "metadata": {
        "id": "s4JzpuVzG-RK",
        "colab_type": "code",
        "colab": {}
      },
      "source": [
        "def f(x):\n",
        "    return np.sin(x)*(np.cos(x))**2"
      ],
      "execution_count": 0,
      "outputs": []
    },
    {
      "cell_type": "markdown",
      "metadata": {
        "id": "IpTD7NvIG-RX",
        "colab_type": "text"
      },
      "source": [
        "Funzione che genera i valori target di un insieme di punti, associando ad un valore $x$ il valore \n",
        "$y=f(x)+\\varepsilon$, con $\\varepsilon$ distribuito secondo una gaussiana di media $0$ e varianza $0.1$ "
      ]
    },
    {
      "cell_type": "code",
      "metadata": {
        "id": "qpNZVRghG-RZ",
        "colab_type": "code",
        "colab": {}
      },
      "source": [
        "def p(r):\n",
        "    return [stats.norm.rvs(loc=f(x), scale=0.1, size=1) for x in r]"
      ],
      "execution_count": 0,
      "outputs": []
    },
    {
      "cell_type": "markdown",
      "metadata": {
        "id": "2Mi9p2i8G-Rd",
        "colab_type": "text"
      },
      "source": [
        "Numero di elementi nel training e nel test set"
      ]
    },
    {
      "cell_type": "code",
      "metadata": {
        "id": "8FUUgqa2G-Re",
        "colab_type": "code",
        "colab": {}
      },
      "source": [
        "n_train = 30\n",
        "n_test = 30"
      ],
      "execution_count": 0,
      "outputs": []
    },
    {
      "cell_type": "markdown",
      "metadata": {
        "id": "4zDiz2UvG-Ru",
        "colab_type": "text"
      },
      "source": [
        "Genera casualmente il training set"
      ]
    },
    {
      "cell_type": "code",
      "metadata": {
        "id": "J4rYXTxEG-Rv",
        "colab_type": "code",
        "colab": {}
      },
      "source": [
        "x_train = stats.uniform.rvs(size=n_train, loc=-2, scale=4).reshape(-1,1)\n",
        "y_train = np.array(p(x_train)).reshape(-1,1)"
      ],
      "execution_count": 0,
      "outputs": []
    },
    {
      "cell_type": "markdown",
      "metadata": {
        "id": "oHP1qov9G-Ry",
        "colab_type": "text"
      },
      "source": [
        "Genera casualmente il test set"
      ]
    },
    {
      "cell_type": "code",
      "metadata": {
        "id": "28AxSOpmG-R4",
        "colab_type": "code",
        "colab": {}
      },
      "source": [
        "x_test = stats.uniform.rvs(size=n_test, loc=-2, scale=4).reshape(-1,1)\n",
        "y_test = np.array(p(x_test)).reshape(-1,1)"
      ],
      "execution_count": 0,
      "outputs": []
    },
    {
      "cell_type": "markdown",
      "metadata": {
        "id": "3FAn-5uIG-R8",
        "colab_type": "text"
      },
      "source": [
        "Riporta il plot della funzione e i due dataset"
      ]
    },
    {
      "cell_type": "code",
      "metadata": {
        "id": "0UMjhuNvG-R9",
        "colab_type": "code",
        "colab": {
          "base_uri": "https://localhost:8080/",
          "height": 527
        },
        "outputId": "6284489a-df2c-465f-b462-019ef60d501c"
      },
      "source": [
        "fig, ax = plt.subplots(figsize=(14, 8))\n",
        "x = np.linspace(-2, 2, 1000)\n",
        "plt.plot(x, f(x), linewidth=2, alpha = .7)\n",
        "plt.scatter(x_train, y_train, s=20, color='C1')\n",
        "plt.scatter(x_test, y_test, s=20, color='C2')\n",
        "plt.xlim(-2, 2)\n",
        "plt.ylim(-1,1)\n",
        "plt.xlabel('$x$')\n",
        "plt.ylabel(r'$y$')\n",
        "plt.show()"
      ],
      "execution_count": 21,
      "outputs": [
        {
          "output_type": "display_data",
          "data": {
            "image/png": "[encoded data removed]",
            "text/plain": [
              "<Figure size 1008x576 with 1 Axes>"
            ]
          },
          "metadata": {
            "tags": []
          }
        }
      ]
    },
    {
      "cell_type": "markdown",
      "metadata": {
        "id": "-4G3s3Q2G-SG",
        "colab_type": "text"
      },
      "source": [
        "Funzione che effettua le previsioni di $y$ per tutti gli elementi in $t$ mediante un polinomio i cui coefficienti sono specificati in $\\theta$"
      ]
    },
    {
      "cell_type": "code",
      "metadata": {
        "id": "mTUKRG3PG-SH",
        "colab_type": "code",
        "colab": {}
      },
      "source": [
        "def predictions(theta, x):\n",
        "    return np.polyval(theta[::-1],x)"
      ],
      "execution_count": 0,
      "outputs": []
    },
    {
      "cell_type": "markdown",
      "metadata": {
        "id": "X2xFE3JMG-ST",
        "colab_type": "text"
      },
      "source": [
        "Funzione di costo, definita sul dataset $x,t$ e sul modello rappresentato dai coefficienti $\\theta$ del polinomio"
      ]
    },
    {
      "cell_type": "code",
      "metadata": {
        "id": "Lv8CZ0arG-SV",
        "colab_type": "code",
        "colab": {}
      },
      "source": [
        "def cost(theta, x, t):\n",
        "    n = x.shape[0]\n",
        "    y = predictions(theta,x)\n",
        "    return round(np.sqrt(np.sum((t-y)**2)/float(2*n)), 4)"
      ],
      "execution_count": 0,
      "outputs": []
    },
    {
      "cell_type": "markdown",
      "metadata": {
        "id": "0YVna8ZjG-Sf",
        "colab_type": "text"
      },
      "source": [
        "Grado del polinomio utilizzato"
      ]
    },
    {
      "cell_type": "code",
      "metadata": {
        "id": "KX1Lj0_EG-Sh",
        "colab_type": "code",
        "colab": {}
      },
      "source": [
        "degree = 1"
      ],
      "execution_count": 0,
      "outputs": []
    },
    {
      "cell_type": "markdown",
      "metadata": {
        "id": "JgdLp8T1G-Sk",
        "colab_type": "text"
      },
      "source": [
        "Calcola matrice delle nuove features corrispondenti ai termini $1, x, x^2, \\ldots$"
      ]
    },
    {
      "cell_type": "code",
      "metadata": {
        "id": "SU7qr5grG-Sl",
        "colab_type": "code",
        "colab": {}
      },
      "source": [
        "X = np.ones(n_train).reshape(-1,1)\n",
        "Z = x_train\n",
        "for i in range(degree):\n",
        "    X = np.column_stack((X, Z))\n",
        "    Z = Z*x_train"
      ],
      "execution_count": 0,
      "outputs": []
    },
    {
      "cell_type": "markdown",
      "metadata": {
        "id": "l-vi91OdG-Sp",
        "colab_type": "text"
      },
      "source": [
        "Calcola vettore con valore ottimo dei coefficienti"
      ]
    },
    {
      "cell_type": "code",
      "metadata": {
        "id": "1iKzD1kVG-Sq",
        "colab_type": "code",
        "colab": {}
      },
      "source": [
        "theta = np.dot(np.dot(np.linalg.inv(np.dot(X.T, X)), X.T), y_train)"
      ],
      "execution_count": 0,
      "outputs": []
    },
    {
      "cell_type": "markdown",
      "metadata": {
        "id": "v7wAxMcoG-Sv",
        "colab_type": "text"
      },
      "source": [
        "Calcola costo su train e test set"
      ]
    },
    {
      "cell_type": "code",
      "metadata": {
        "id": "6at4JVEhG-S3",
        "colab_type": "code",
        "colab": {}
      },
      "source": [
        "c_train = cost(theta,x_train,y_train)\n",
        "c_test = cost(theta,x_test,y_test)"
      ],
      "execution_count": 0,
      "outputs": []
    },
    {
      "cell_type": "code",
      "metadata": {
        "id": "GS3AB8S6G-S6",
        "colab_type": "code",
        "colab": {
          "base_uri": "https://localhost:8080/",
          "height": 540
        },
        "outputId": "a9d174fd-fab2-4770-b02c-aef23667eea5"
      },
      "source": [
        "fig, ax = plt.subplots(figsize=(16, 8))\n",
        "x = np.linspace(-2, 2, 1000)\n",
        "plt.plot(x, f(x), linewidth=2, alpha = .7)\n",
        "plt.scatter(x_train, y_train, s=20, color='C1')\n",
        "plt.scatter(x_test, y_test, s=20, color='C2')\n",
        "plt.plot(x, predictions(theta,x), color='C3', linewidth=2, alpha=1)\n",
        "plt.xlim(-2, 2)\n",
        "plt.ylim(-1,1)\n",
        "plt.xlabel('$x$')\n",
        "plt.ylabel('$y$')\n",
        "plt.title('grado={0:d}'.format(degree), fontsize=12)\n",
        "plt.text(0.9, 0.9, 'Costo\\ntrain: {0:.3f}\\ntest: {1:.3f}'.format(c_train, c_test), fontsize=12, \n",
        "         transform=ax.transAxes, bbox=bbox_props)\n",
        "plt.show()"
      ],
      "execution_count": 28,
      "outputs": [
        {
          "output_type": "display_data",
          "data": {
            "image/png": "[encoded data removed]",
            "text/plain": [
              "<Figure size 1152x576 with 1 Axes>"
            ]
          },
          "metadata": {
            "tags": []
          }
        }
      ]
    },
    {
      "cell_type": "markdown",
      "metadata": {
        "id": "q6x_OUCjG-TH",
        "colab_type": "text"
      },
      "source": [
        "Calcola costo su training e test set al variare del grado del polinomio "
      ]
    },
    {
      "cell_type": "code",
      "metadata": {
        "id": "xm9gRHcQG-TW",
        "colab_type": "code",
        "colab": {}
      },
      "source": [
        "maxdeg = 20\n",
        "costs_train =  []  \n",
        "costs_test =  [] "
      ],
      "execution_count": 0,
      "outputs": []
    },
    {
      "cell_type": "code",
      "metadata": {
        "id": "5gxCEslrG-Tb",
        "colab_type": "code",
        "colab": {}
      },
      "source": [
        "for degree in range(0, maxdeg):\n",
        "    X = np.ones(n_train).reshape(-1,1)\n",
        "    Z = x_train\n",
        "    for i in range(degree):\n",
        "        X = np.column_stack((X, Z))\n",
        "        Z=Z*x_train\n",
        "    \n",
        "    theta = np.dot(np.dot(np.linalg.inv(np.dot(X.T, X)), X.T), y_train)\n",
        "    \n",
        "    costs_train.append(cost(theta,x_train,y_train))\n",
        "    costs_test.append(cost(theta,x_test,y_test))"
      ],
      "execution_count": 0,
      "outputs": []
    },
    {
      "cell_type": "code",
      "metadata": {
        "id": "dTKIia_ZG-Tf",
        "colab_type": "code",
        "colab": {
          "base_uri": "https://localhost:8080/",
          "height": 669
        },
        "outputId": "5e8d73e8-3597-4d82-e812-9ce2ade5cfc1"
      },
      "source": [
        "df = pd.DataFrame()\n",
        "df['train'] = costs_train\n",
        "df['test'] = costs_test\n",
        "df['ratio'] = df.test/df.train\n",
        "df"
      ],
      "execution_count": 33,
      "outputs": [
        {
          "output_type": "execute_result",
          "data": {
            "text/html": [
              "<div>\n",
              "<style scoped>\n",
              "    .dataframe tbody tr th:only-of-type {\n",
              "        vertical-align: middle;\n",
              "    }\n",
              "\n",
              "    .dataframe tbody tr th {\n",
              "        vertical-align: top;\n",
              "    }\n",
              "\n",
              "    .dataframe thead th {\n",
              "        text-align: right;\n",
              "    }\n",
              "</style>\n",
              "<table border=\"1\" class=\"dataframe\">\n",
              "  <thead>\n",
              "    <tr style=\"text-align: right;\">\n",
              "      <th></th>\n",
              "      <th>train</th>\n",
              "      <th>test</th>\n",
              "      <th>ratio</th>\n",
              "    </tr>\n",
              "  </thead>\n",
              "  <tbody>\n",
              "    <tr>\n",
              "      <th>0</th>\n",
              "      <td>0.1865</td>\n",
              "      <td>0.1776</td>\n",
              "      <td>0.952279</td>\n",
              "    </tr>\n",
              "    <tr>\n",
              "      <th>1</th>\n",
              "      <td>0.1754</td>\n",
              "      <td>0.1513</td>\n",
              "      <td>0.862600</td>\n",
              "    </tr>\n",
              "    <tr>\n",
              "      <th>2</th>\n",
              "      <td>0.1743</td>\n",
              "      <td>0.1564</td>\n",
              "      <td>0.897303</td>\n",
              "    </tr>\n",
              "    <tr>\n",
              "      <th>3</th>\n",
              "      <td>0.1447</td>\n",
              "      <td>0.1081</td>\n",
              "      <td>0.747063</td>\n",
              "    </tr>\n",
              "    <tr>\n",
              "      <th>4</th>\n",
              "      <td>0.1446</td>\n",
              "      <td>0.1072</td>\n",
              "      <td>0.741355</td>\n",
              "    </tr>\n",
              "    <tr>\n",
              "      <th>5</th>\n",
              "      <td>0.0749</td>\n",
              "      <td>0.0965</td>\n",
              "      <td>1.288385</td>\n",
              "    </tr>\n",
              "    <tr>\n",
              "      <th>6</th>\n",
              "      <td>0.0748</td>\n",
              "      <td>0.0974</td>\n",
              "      <td>1.302139</td>\n",
              "    </tr>\n",
              "    <tr>\n",
              "      <th>7</th>\n",
              "      <td>0.0691</td>\n",
              "      <td>0.0934</td>\n",
              "      <td>1.351664</td>\n",
              "    </tr>\n",
              "    <tr>\n",
              "      <th>8</th>\n",
              "      <td>0.0691</td>\n",
              "      <td>0.0934</td>\n",
              "      <td>1.351664</td>\n",
              "    </tr>\n",
              "    <tr>\n",
              "      <th>9</th>\n",
              "      <td>0.0613</td>\n",
              "      <td>0.1391</td>\n",
              "      <td>2.269168</td>\n",
              "    </tr>\n",
              "    <tr>\n",
              "      <th>10</th>\n",
              "      <td>0.0592</td>\n",
              "      <td>0.1013</td>\n",
              "      <td>1.711149</td>\n",
              "    </tr>\n",
              "    <tr>\n",
              "      <th>11</th>\n",
              "      <td>0.0590</td>\n",
              "      <td>0.1201</td>\n",
              "      <td>2.035593</td>\n",
              "    </tr>\n",
              "    <tr>\n",
              "      <th>12</th>\n",
              "      <td>0.0578</td>\n",
              "      <td>0.2788</td>\n",
              "      <td>4.823529</td>\n",
              "    </tr>\n",
              "    <tr>\n",
              "      <th>13</th>\n",
              "      <td>0.0442</td>\n",
              "      <td>1.7462</td>\n",
              "      <td>39.506787</td>\n",
              "    </tr>\n",
              "    <tr>\n",
              "      <th>14</th>\n",
              "      <td>0.0420</td>\n",
              "      <td>2.4164</td>\n",
              "      <td>57.533333</td>\n",
              "    </tr>\n",
              "    <tr>\n",
              "      <th>15</th>\n",
              "      <td>0.0419</td>\n",
              "      <td>2.1926</td>\n",
              "      <td>52.329356</td>\n",
              "    </tr>\n",
              "    <tr>\n",
              "      <th>16</th>\n",
              "      <td>0.0329</td>\n",
              "      <td>7.6439</td>\n",
              "      <td>232.337386</td>\n",
              "    </tr>\n",
              "    <tr>\n",
              "      <th>17</th>\n",
              "      <td>0.0328</td>\n",
              "      <td>6.1896</td>\n",
              "      <td>188.707317</td>\n",
              "    </tr>\n",
              "    <tr>\n",
              "      <th>18</th>\n",
              "      <td>0.0327</td>\n",
              "      <td>4.5089</td>\n",
              "      <td>137.886850</td>\n",
              "    </tr>\n",
              "    <tr>\n",
              "      <th>19</th>\n",
              "      <td>0.0312</td>\n",
              "      <td>15.8454</td>\n",
              "      <td>507.865385</td>\n",
              "    </tr>\n",
              "  </tbody>\n",
              "</table>\n",
              "</div>"
            ],
            "text/plain": [
              "     train     test       ratio\n",
              "0   0.1865   0.1776    0.952279\n",
              "1   0.1754   0.1513    0.862600\n",
              "2   0.1743   0.1564    0.897303\n",
              "3   0.1447   0.1081    0.747063\n",
              "4   0.1446   0.1072    0.741355\n",
              "5   0.0749   0.0965    1.288385\n",
              "6   0.0748   0.0974    1.302139\n",
              "7   0.0691   0.0934    1.351664\n",
              "8   0.0691   0.0934    1.351664\n",
              "9   0.0613   0.1391    2.269168\n",
              "10  0.0592   0.1013    1.711149\n",
              "11  0.0590   0.1201    2.035593\n",
              "12  0.0578   0.2788    4.823529\n",
              "13  0.0442   1.7462   39.506787\n",
              "14  0.0420   2.4164   57.533333\n",
              "15  0.0419   2.1926   52.329356\n",
              "16  0.0329   7.6439  232.337386\n",
              "17  0.0328   6.1896  188.707317\n",
              "18  0.0327   4.5089  137.886850\n",
              "19  0.0312  15.8454  507.865385"
            ]
          },
          "metadata": {
            "tags": []
          },
          "execution_count": 33
        }
      ]
    },
    {
      "cell_type": "code",
      "metadata": {
        "id": "a5U44-PpG-Ti",
        "colab_type": "code",
        "colab": {
          "base_uri": "https://localhost:8080/",
          "height": 540
        },
        "outputId": "d0199988-4b16-45cd-fa9a-046bbe96ea8c"
      },
      "source": [
        "top = maxdeg\n",
        "fig, axarr = plt.subplots(2, sharex=True, figsize=(16, 8))\n",
        "axarr[0].plot(df.index[:top], df.train[:top], linewidth=2, alpha = .7, marker = 'o', markersize=5)\n",
        "axarr[0].set_title('Train')\n",
        "axarr[0].set_xlabel('$d$')\n",
        "axarr[0].set_ylabel('$E_{RMS}$')\n",
        "axarr[1].plot(df.index[:top], df.test[:top], linewidth=2, alpha = .7, marker = 'o', markersize=5, color='C1')\n",
        "axarr[1].set_title('Test')\n",
        "plt.xlim(-0.1, df.index[top-1]+.1)\n",
        "axarr[1].set_xlabel('$d$')\n",
        "axarr[1].set_ylabel('$E_{RMS}$')\n",
        "plt.show()"
      ],
      "execution_count": 37,
      "outputs": [
        {
          "output_type": "display_data",
          "data": {
            "image/png": "[encoded data removed]",
            "text/plain": [
              "<Figure size 1152x576 with 2 Axes>"
            ]
          },
          "metadata": {
            "tags": []
          }
        }
      ]
    },
    {
      "cell_type": "code",
      "metadata": {
        "id": "_BVyrhZnG-Tl",
        "colab_type": "code",
        "colab": {
          "base_uri": "https://localhost:8080/",
          "height": 409
        },
        "outputId": "b659e01d-d6d3-4cde-9cb3-ab7ebb8d876d"
      },
      "source": [
        "top = maxdeg\n",
        "fig, ax = plt.subplots(figsize=(12, 6))\n",
        "plt.plot(df.index[:top], df.ratio[:top], linewidth=2, alpha = .7, marker = 'o', markersize=5)\n",
        "plt.xlim(-0.1, df.index[top-1]+.1)\n",
        "plt.xlabel('$d$')\n",
        "plt.ylabel(r'$ratio$')\n",
        "plt.show()"
      ],
      "execution_count": 38,
      "outputs": [
        {
          "output_type": "display_data",
          "data": {
            "image/png": "[encoded data removed]",
            "text/plain": [
              "<Figure size 864x432 with 1 Axes>"
            ]
          },
          "metadata": {
            "tags": []
          }
        }
      ]
    }
  ]
}