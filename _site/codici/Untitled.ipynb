{
 "cells": [
  {
   "cell_type": "code",
   "execution_count": 35,
   "metadata": {},
   "outputs": [
    {
     "data": {
      "image/png": "[encoded data removed]",
      "text/plain": [
       "<Figure size 1152x72 with 1 Axes>"
      ]
     },
     "metadata": {
      "needs_background": "light"
     },
     "output_type": "display_data"
    }
   ],
   "source": [
    "import matplotlib.pyplot as plt\n",
    "import numpy as np\n",
    "import matplotlib\n",
    "matplotlib.rcParams['font.size'] = 8.0\n",
    "\n",
    "# Fixing random state for reproducibility\n",
    "np.random.seed(19680801)\n",
    "\n",
    "\n",
    "# create random data\n",
    "data1 = np.random.random([1, 50])\n",
    "\n",
    "# set different colors for each set of positions\n",
    "colors1 = ['C{}'.format(i) for i in range(1)]\n",
    "\n",
    "# set different line properties for each set of positions\n",
    "# note that some overlap\n",
    "lineoffsets1 = 1#np.array([-15, -3, 1, 1.5, 6, 10])\n",
    "linelengths1 = .2#[5, 2, 1, 1, 3, 1.5]\n",
    "\n",
    "fig = plt.figure(figsize=(16,1))\n",
    "\n",
    "# create a horizontal plot\n",
    "plt.eventplot(data1, colors=colors1, lineoffsets=lineoffsets1,\n",
    "                    linelengths=linelengths1)\n",
    "plt.hlines(1, np.min(data1), np.max(data1), linewidth=1)\n",
    "plt.ylim(.5,1.5)\n",
    "plt.yticks([])\n",
    "\n",
    "plt.show()\n"
   ]
  },
  {
   "cell_type": "code",
   "execution_count": 2,
   "metadata": {},
   "outputs": [],
   "source": [
    "%matplotlib inline"
   ]
  },
  {
   "cell_type": "code",
   "execution_count": null,
   "metadata": {},
   "outputs": [],
   "source": []
  }
 ],
 "metadata": {
  "kernelspec": {
   "display_name": "Python 3",
   "language": "python",
   "name": "python3"
  },
  "language_info": {
   "codemirror_mode": {
    "name": "ipython",
    "version": 3
   },
   "file_extension": ".py",
   "mimetype": "text/x-python",
   "name": "python",
   "nbconvert_exporter": "python",
   "pygments_lexer": "ipython3",
   "version": "3.7.4"
  }
 },
 "nbformat": 4,
 "nbformat_minor": 4
}
